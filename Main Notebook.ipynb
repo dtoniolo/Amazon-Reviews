{
  "nbformat": 4,
  "nbformat_minor": 0,
  "metadata": {
    "colab": {
      "name": "Untitled1.ipynb",
      "provenance": [],
      "collapsed_sections": []
    },
    "kernelspec": {
      "name": "python3",
      "display_name": "Python 3"
    }
  },
  "cells": [
    {
      "cell_type": "markdown",
      "metadata": {
        "id": "wxZVVVg9f9TM",
        "colab_type": "text"
      },
      "source": [
        "## Intro"
      ]
    },
    {
      "cell_type": "code",
      "metadata": {
        "id": "2DDw8SiBYReb",
        "colab_type": "code",
        "colab": {
          "base_uri": "https://localhost:8080/",
          "height": 82
        },
        "outputId": "5dedcffd-804d-4aaa-83a8-a40e90ab17fc"
      },
      "source": [
        "!curl -O http://snap.stanford.edu/data/amazon/productGraph/categoryFiles/reviews_Clothing_Shoes_and_Jewelry_5.json.gz\n",
        "!ls"
      ],
      "execution_count": null,
      "outputs": [
        {
          "output_type": "stream",
          "text": [
            "  % Total    % Received % Xferd  Average Speed   Time    Time     Time  Current\n",
            "                                 Dload  Upload   Total   Spent    Left  Speed\n",
            "100 45.0M  100 45.0M    0     0  13.2M      0  0:00:03  0:00:03 --:--:-- 13.2M\n",
            "reviews_Clothing_Shoes_and_Jewelry_5.json.gz  sample_data\n"
          ],
          "name": "stdout"
        }
      ]
    },
    {
      "cell_type": "code",
      "metadata": {
        "id": "HGckv8vbYqdq",
        "colab_type": "code",
        "colab": {
          "base_uri": "https://localhost:8080/",
          "height": 32
        },
        "outputId": "6647ef2b-2460-4c72-d483-7bb6cbef7a72"
      },
      "source": [
        "import gzip\n",
        "import json\n",
        "import numpy as np\n",
        "import nltk\n",
        "from tqdm import tqdm\n",
        "import string\n",
        "import sklearn\n",
        "import sklearn.decomposition\n",
        "import sklearn.naive_bayes\n",
        "import sklearn.ensemble\n",
        "import sklearn.svm\n",
        "import sklearn.neighbors\n",
        "import pandas as pd\n",
        "import matplotlib.pyplot as plt\n",
        "import tensorflow.keras as keras\n",
        "import itertools\n",
        "from google.colab import drive\n",
        "drive.mount('/content/drive/')\n",
        "savepath = '/content/drive/My Drive/Colab Notebooks/TMS/Results/'"
      ],
      "execution_count": 4,
      "outputs": [
        {
          "output_type": "stream",
          "text": [
            "Drive already mounted at /content/drive/; to attempt to forcibly remount, call drive.mount(\"/content/drive/\", force_remount=True).\n"
          ],
          "name": "stdout"
        }
      ]
    },
    {
      "cell_type": "code",
      "metadata": {
        "id": "fnWD5AOR1BHB",
        "colab_type": "code",
        "colab": {
          "base_uri": "https://localhost:8080/",
          "height": 1000
        },
        "outputId": "49689a6e-45f3-48ac-e794-9e3571403bca"
      },
      "source": [
        "nltk.download('all')"
      ],
      "execution_count": null,
      "outputs": [
        {
          "output_type": "stream",
          "text": [
            "[nltk_data] Downloading collection 'all'\n",
            "[nltk_data]    | \n",
            "[nltk_data]    | Downloading package abc to /root/nltk_data...\n",
            "[nltk_data]    |   Unzipping corpora/abc.zip.\n",
            "[nltk_data]    | Downloading package alpino to /root/nltk_data...\n",
            "[nltk_data]    |   Unzipping corpora/alpino.zip.\n",
            "[nltk_data]    | Downloading package biocreative_ppi to\n",
            "[nltk_data]    |     /root/nltk_data...\n",
            "[nltk_data]    |   Unzipping corpora/biocreative_ppi.zip.\n",
            "[nltk_data]    | Downloading package brown to /root/nltk_data...\n",
            "[nltk_data]    |   Unzipping corpora/brown.zip.\n",
            "[nltk_data]    | Downloading package brown_tei to /root/nltk_data...\n",
            "[nltk_data]    |   Unzipping corpora/brown_tei.zip.\n",
            "[nltk_data]    | Downloading package cess_cat to /root/nltk_data...\n",
            "[nltk_data]    |   Unzipping corpora/cess_cat.zip.\n",
            "[nltk_data]    | Downloading package cess_esp to /root/nltk_data...\n",
            "[nltk_data]    |   Unzipping corpora/cess_esp.zip.\n",
            "[nltk_data]    | Downloading package chat80 to /root/nltk_data...\n",
            "[nltk_data]    |   Unzipping corpora/chat80.zip.\n",
            "[nltk_data]    | Downloading package city_database to\n",
            "[nltk_data]    |     /root/nltk_data...\n",
            "[nltk_data]    |   Unzipping corpora/city_database.zip.\n",
            "[nltk_data]    | Downloading package cmudict to /root/nltk_data...\n",
            "[nltk_data]    |   Unzipping corpora/cmudict.zip.\n",
            "[nltk_data]    | Downloading package comparative_sentences to\n",
            "[nltk_data]    |     /root/nltk_data...\n",
            "[nltk_data]    |   Unzipping corpora/comparative_sentences.zip.\n",
            "[nltk_data]    | Downloading package comtrans to /root/nltk_data...\n",
            "[nltk_data]    | Downloading package conll2000 to /root/nltk_data...\n",
            "[nltk_data]    |   Unzipping corpora/conll2000.zip.\n",
            "[nltk_data]    | Downloading package conll2002 to /root/nltk_data...\n",
            "[nltk_data]    |   Unzipping corpora/conll2002.zip.\n",
            "[nltk_data]    | Downloading package conll2007 to /root/nltk_data...\n",
            "[nltk_data]    | Downloading package crubadan to /root/nltk_data...\n",
            "[nltk_data]    |   Unzipping corpora/crubadan.zip.\n",
            "[nltk_data]    | Downloading package dependency_treebank to\n",
            "[nltk_data]    |     /root/nltk_data...\n",
            "[nltk_data]    |   Unzipping corpora/dependency_treebank.zip.\n",
            "[nltk_data]    | Downloading package dolch to /root/nltk_data...\n",
            "[nltk_data]    |   Unzipping corpora/dolch.zip.\n",
            "[nltk_data]    | Downloading package europarl_raw to\n",
            "[nltk_data]    |     /root/nltk_data...\n",
            "[nltk_data]    |   Unzipping corpora/europarl_raw.zip.\n",
            "[nltk_data]    | Downloading package floresta to /root/nltk_data...\n",
            "[nltk_data]    |   Unzipping corpora/floresta.zip.\n",
            "[nltk_data]    | Downloading package framenet_v15 to\n",
            "[nltk_data]    |     /root/nltk_data...\n",
            "[nltk_data]    |   Unzipping corpora/framenet_v15.zip.\n",
            "[nltk_data]    | Downloading package framenet_v17 to\n",
            "[nltk_data]    |     /root/nltk_data...\n",
            "[nltk_data]    |   Unzipping corpora/framenet_v17.zip.\n",
            "[nltk_data]    | Downloading package gazetteers to /root/nltk_data...\n",
            "[nltk_data]    |   Unzipping corpora/gazetteers.zip.\n",
            "[nltk_data]    | Downloading package genesis to /root/nltk_data...\n",
            "[nltk_data]    |   Unzipping corpora/genesis.zip.\n",
            "[nltk_data]    | Downloading package gutenberg to /root/nltk_data...\n",
            "[nltk_data]    |   Unzipping corpora/gutenberg.zip.\n",
            "[nltk_data]    | Downloading package ieer to /root/nltk_data...\n",
            "[nltk_data]    |   Unzipping corpora/ieer.zip.\n",
            "[nltk_data]    | Downloading package inaugural to /root/nltk_data...\n",
            "[nltk_data]    |   Unzipping corpora/inaugural.zip.\n",
            "[nltk_data]    | Downloading package indian to /root/nltk_data...\n",
            "[nltk_data]    |   Unzipping corpora/indian.zip.\n",
            "[nltk_data]    | Downloading package jeita to /root/nltk_data...\n",
            "[nltk_data]    | Downloading package kimmo to /root/nltk_data...\n",
            "[nltk_data]    |   Unzipping corpora/kimmo.zip.\n",
            "[nltk_data]    | Downloading package knbc to /root/nltk_data...\n",
            "[nltk_data]    | Downloading package lin_thesaurus to\n",
            "[nltk_data]    |     /root/nltk_data...\n",
            "[nltk_data]    |   Unzipping corpora/lin_thesaurus.zip.\n",
            "[nltk_data]    | Downloading package mac_morpho to /root/nltk_data...\n",
            "[nltk_data]    |   Unzipping corpora/mac_morpho.zip.\n",
            "[nltk_data]    | Downloading package machado to /root/nltk_data...\n",
            "[nltk_data]    | Downloading package masc_tagged to /root/nltk_data...\n",
            "[nltk_data]    | Downloading package moses_sample to\n",
            "[nltk_data]    |     /root/nltk_data...\n",
            "[nltk_data]    |   Unzipping models/moses_sample.zip.\n",
            "[nltk_data]    | Downloading package movie_reviews to\n",
            "[nltk_data]    |     /root/nltk_data...\n",
            "[nltk_data]    |   Unzipping corpora/movie_reviews.zip.\n",
            "[nltk_data]    | Downloading package names to /root/nltk_data...\n",
            "[nltk_data]    |   Unzipping corpora/names.zip.\n",
            "[nltk_data]    | Downloading package nombank.1.0 to /root/nltk_data...\n",
            "[nltk_data]    | Downloading package nps_chat to /root/nltk_data...\n",
            "[nltk_data]    |   Unzipping corpora/nps_chat.zip.\n",
            "[nltk_data]    | Downloading package omw to /root/nltk_data...\n",
            "[nltk_data]    |   Unzipping corpora/omw.zip.\n",
            "[nltk_data]    | Downloading package opinion_lexicon to\n",
            "[nltk_data]    |     /root/nltk_data...\n",
            "[nltk_data]    |   Unzipping corpora/opinion_lexicon.zip.\n",
            "[nltk_data]    | Downloading package paradigms to /root/nltk_data...\n",
            "[nltk_data]    |   Unzipping corpora/paradigms.zip.\n",
            "[nltk_data]    | Downloading package pil to /root/nltk_data...\n",
            "[nltk_data]    |   Unzipping corpora/pil.zip.\n",
            "[nltk_data]    | Downloading package pl196x to /root/nltk_data...\n",
            "[nltk_data]    |   Unzipping corpora/pl196x.zip.\n",
            "[nltk_data]    | Downloading package ppattach to /root/nltk_data...\n",
            "[nltk_data]    |   Unzipping corpora/ppattach.zip.\n",
            "[nltk_data]    | Downloading package problem_reports to\n",
            "[nltk_data]    |     /root/nltk_data...\n",
            "[nltk_data]    |   Unzipping corpora/problem_reports.zip.\n",
            "[nltk_data]    | Downloading package propbank to /root/nltk_data...\n",
            "[nltk_data]    | Downloading package ptb to /root/nltk_data...\n",
            "[nltk_data]    |   Unzipping corpora/ptb.zip.\n",
            "[nltk_data]    | Downloading package product_reviews_1 to\n",
            "[nltk_data]    |     /root/nltk_data...\n",
            "[nltk_data]    |   Unzipping corpora/product_reviews_1.zip.\n",
            "[nltk_data]    | Downloading package product_reviews_2 to\n",
            "[nltk_data]    |     /root/nltk_data...\n",
            "[nltk_data]    |   Unzipping corpora/product_reviews_2.zip.\n",
            "[nltk_data]    | Downloading package pros_cons to /root/nltk_data...\n",
            "[nltk_data]    |   Unzipping corpora/pros_cons.zip.\n",
            "[nltk_data]    | Downloading package qc to /root/nltk_data...\n",
            "[nltk_data]    |   Unzipping corpora/qc.zip.\n",
            "[nltk_data]    | Downloading package reuters to /root/nltk_data...\n",
            "[nltk_data]    | Downloading package rte to /root/nltk_data...\n",
            "[nltk_data]    |   Unzipping corpora/rte.zip.\n",
            "[nltk_data]    | Downloading package semcor to /root/nltk_data...\n",
            "[nltk_data]    | Downloading package senseval to /root/nltk_data...\n",
            "[nltk_data]    |   Unzipping corpora/senseval.zip.\n",
            "[nltk_data]    | Downloading package sentiwordnet to\n",
            "[nltk_data]    |     /root/nltk_data...\n",
            "[nltk_data]    |   Unzipping corpora/sentiwordnet.zip.\n",
            "[nltk_data]    | Downloading package sentence_polarity to\n",
            "[nltk_data]    |     /root/nltk_data...\n",
            "[nltk_data]    |   Unzipping corpora/sentence_polarity.zip.\n",
            "[nltk_data]    | Downloading package shakespeare to /root/nltk_data...\n",
            "[nltk_data]    |   Unzipping corpora/shakespeare.zip.\n",
            "[nltk_data]    | Downloading package sinica_treebank to\n",
            "[nltk_data]    |     /root/nltk_data...\n",
            "[nltk_data]    |   Unzipping corpora/sinica_treebank.zip.\n",
            "[nltk_data]    | Downloading package smultron to /root/nltk_data...\n",
            "[nltk_data]    |   Unzipping corpora/smultron.zip.\n",
            "[nltk_data]    | Downloading package state_union to /root/nltk_data...\n",
            "[nltk_data]    |   Unzipping corpora/state_union.zip.\n",
            "[nltk_data]    | Downloading package stopwords to /root/nltk_data...\n",
            "[nltk_data]    |   Unzipping corpora/stopwords.zip.\n",
            "[nltk_data]    | Downloading package subjectivity to\n",
            "[nltk_data]    |     /root/nltk_data...\n",
            "[nltk_data]    |   Unzipping corpora/subjectivity.zip.\n",
            "[nltk_data]    | Downloading package swadesh to /root/nltk_data...\n",
            "[nltk_data]    |   Unzipping corpora/swadesh.zip.\n",
            "[nltk_data]    | Downloading package switchboard to /root/nltk_data...\n",
            "[nltk_data]    |   Unzipping corpora/switchboard.zip.\n",
            "[nltk_data]    | Downloading package timit to /root/nltk_data...\n",
            "[nltk_data]    |   Unzipping corpora/timit.zip.\n",
            "[nltk_data]    | Downloading package toolbox to /root/nltk_data...\n",
            "[nltk_data]    |   Unzipping corpora/toolbox.zip.\n",
            "[nltk_data]    | Downloading package treebank to /root/nltk_data...\n",
            "[nltk_data]    |   Unzipping corpora/treebank.zip.\n",
            "[nltk_data]    | Downloading package twitter_samples to\n",
            "[nltk_data]    |     /root/nltk_data...\n",
            "[nltk_data]    |   Unzipping corpora/twitter_samples.zip.\n",
            "[nltk_data]    | Downloading package udhr to /root/nltk_data...\n",
            "[nltk_data]    |   Unzipping corpora/udhr.zip.\n",
            "[nltk_data]    | Downloading package udhr2 to /root/nltk_data...\n",
            "[nltk_data]    |   Unzipping corpora/udhr2.zip.\n",
            "[nltk_data]    | Downloading package unicode_samples to\n",
            "[nltk_data]    |     /root/nltk_data...\n",
            "[nltk_data]    |   Unzipping corpora/unicode_samples.zip.\n",
            "[nltk_data]    | Downloading package universal_treebanks_v20 to\n",
            "[nltk_data]    |     /root/nltk_data...\n",
            "[nltk_data]    | Downloading package verbnet to /root/nltk_data...\n",
            "[nltk_data]    |   Unzipping corpora/verbnet.zip.\n",
            "[nltk_data]    | Downloading package verbnet3 to /root/nltk_data...\n",
            "[nltk_data]    |   Unzipping corpora/verbnet3.zip.\n",
            "[nltk_data]    | Downloading package webtext to /root/nltk_data...\n",
            "[nltk_data]    |   Unzipping corpora/webtext.zip.\n",
            "[nltk_data]    | Downloading package wordnet to /root/nltk_data...\n",
            "[nltk_data]    |   Unzipping corpora/wordnet.zip.\n",
            "[nltk_data]    | Downloading package wordnet_ic to /root/nltk_data...\n",
            "[nltk_data]    |   Unzipping corpora/wordnet_ic.zip.\n",
            "[nltk_data]    | Downloading package words to /root/nltk_data...\n",
            "[nltk_data]    |   Unzipping corpora/words.zip.\n",
            "[nltk_data]    | Downloading package ycoe to /root/nltk_data...\n",
            "[nltk_data]    |   Unzipping corpora/ycoe.zip.\n",
            "[nltk_data]    | Downloading package rslp to /root/nltk_data...\n",
            "[nltk_data]    |   Unzipping stemmers/rslp.zip.\n",
            "[nltk_data]    | Downloading package maxent_treebank_pos_tagger to\n",
            "[nltk_data]    |     /root/nltk_data...\n",
            "[nltk_data]    |   Unzipping taggers/maxent_treebank_pos_tagger.zip.\n",
            "[nltk_data]    | Downloading package universal_tagset to\n",
            "[nltk_data]    |     /root/nltk_data...\n",
            "[nltk_data]    |   Unzipping taggers/universal_tagset.zip.\n",
            "[nltk_data]    | Downloading package maxent_ne_chunker to\n",
            "[nltk_data]    |     /root/nltk_data...\n",
            "[nltk_data]    |   Unzipping chunkers/maxent_ne_chunker.zip.\n",
            "[nltk_data]    | Downloading package punkt to /root/nltk_data...\n",
            "[nltk_data]    |   Unzipping tokenizers/punkt.zip.\n",
            "[nltk_data]    | Downloading package book_grammars to\n",
            "[nltk_data]    |     /root/nltk_data...\n",
            "[nltk_data]    |   Unzipping grammars/book_grammars.zip.\n",
            "[nltk_data]    | Downloading package sample_grammars to\n",
            "[nltk_data]    |     /root/nltk_data...\n",
            "[nltk_data]    |   Unzipping grammars/sample_grammars.zip.\n",
            "[nltk_data]    | Downloading package spanish_grammars to\n",
            "[nltk_data]    |     /root/nltk_data...\n",
            "[nltk_data]    |   Unzipping grammars/spanish_grammars.zip.\n",
            "[nltk_data]    | Downloading package basque_grammars to\n",
            "[nltk_data]    |     /root/nltk_data...\n",
            "[nltk_data]    |   Unzipping grammars/basque_grammars.zip.\n",
            "[nltk_data]    | Downloading package large_grammars to\n",
            "[nltk_data]    |     /root/nltk_data...\n",
            "[nltk_data]    |   Unzipping grammars/large_grammars.zip.\n",
            "[nltk_data]    | Downloading package tagsets to /root/nltk_data...\n",
            "[nltk_data]    |   Unzipping help/tagsets.zip.\n",
            "[nltk_data]    | Downloading package snowball_data to\n",
            "[nltk_data]    |     /root/nltk_data...\n",
            "[nltk_data]    | Downloading package bllip_wsj_no_aux to\n",
            "[nltk_data]    |     /root/nltk_data...\n",
            "[nltk_data]    |   Unzipping models/bllip_wsj_no_aux.zip.\n",
            "[nltk_data]    | Downloading package word2vec_sample to\n",
            "[nltk_data]    |     /root/nltk_data...\n",
            "[nltk_data]    |   Unzipping models/word2vec_sample.zip.\n",
            "[nltk_data]    | Downloading package panlex_swadesh to\n",
            "[nltk_data]    |     /root/nltk_data...\n",
            "[nltk_data]    | Downloading package mte_teip5 to /root/nltk_data...\n",
            "[nltk_data]    |   Unzipping corpora/mte_teip5.zip.\n",
            "[nltk_data]    | Downloading package averaged_perceptron_tagger to\n",
            "[nltk_data]    |     /root/nltk_data...\n",
            "[nltk_data]    |   Unzipping taggers/averaged_perceptron_tagger.zip.\n",
            "[nltk_data]    | Downloading package averaged_perceptron_tagger_ru to\n",
            "[nltk_data]    |     /root/nltk_data...\n",
            "[nltk_data]    |   Unzipping\n",
            "[nltk_data]    |       taggers/averaged_perceptron_tagger_ru.zip.\n",
            "[nltk_data]    | Downloading package perluniprops to\n",
            "[nltk_data]    |     /root/nltk_data...\n",
            "[nltk_data]    |   Unzipping misc/perluniprops.zip.\n",
            "[nltk_data]    | Downloading package nonbreaking_prefixes to\n",
            "[nltk_data]    |     /root/nltk_data...\n",
            "[nltk_data]    |   Unzipping corpora/nonbreaking_prefixes.zip.\n",
            "[nltk_data]    | Downloading package vader_lexicon to\n",
            "[nltk_data]    |     /root/nltk_data...\n",
            "[nltk_data]    | Downloading package porter_test to /root/nltk_data...\n",
            "[nltk_data]    |   Unzipping stemmers/porter_test.zip.\n",
            "[nltk_data]    | Downloading package wmt15_eval to /root/nltk_data...\n",
            "[nltk_data]    |   Unzipping models/wmt15_eval.zip.\n",
            "[nltk_data]    | Downloading package mwa_ppdb to /root/nltk_data...\n",
            "[nltk_data]    |   Unzipping misc/mwa_ppdb.zip.\n",
            "[nltk_data]    | \n",
            "[nltk_data]  Done downloading collection all\n"
          ],
          "name": "stdout"
        },
        {
          "output_type": "execute_result",
          "data": {
            "text/plain": [
              "True"
            ]
          },
          "metadata": {
            "tags": []
          },
          "execution_count": 3
        }
      ]
    },
    {
      "cell_type": "code",
      "metadata": {
        "id": "inUwjtaYXmw9",
        "colab_type": "code",
        "colab": {}
      },
      "source": [
        "filename = 'reviews_Clothing_Shoes_and_Jewelry_5.json.gz'\n",
        "if filename.endswith('gz'):\n",
        "    file_reader = gzip.open(filename, 'r')\n",
        "    reviews = [json.loads(review.decode('utf-8')) for review in file_reader]\n",
        "else:\n",
        "    with open(filename, 'r') as f:\n",
        "        reviews = [json.loads(review) for review in f.readlines()]\n",
        "#reviews = reviews[:1000]\n",
        "scores = [review['overall'] for review in reviews]\n",
        "scores = np.array(scores)\n",
        "reviews = [review['reviewText'] for review in reviews]"
      ],
      "execution_count": 5,
      "outputs": []
    },
    {
      "cell_type": "markdown",
      "metadata": {
        "id": "PlTLSlroc59B",
        "colab_type": "text"
      },
      "source": [
        "The problem we want to solve is a binary classification one (positive and negative reviews). In order to do this we aggregate 1 and 2 stars reviews into the 'negative' category and the 4-5 start into the 'positive'.\n",
        "\n",
        "The 'neutral' 3 stars are discared."
      ]
    },
    {
      "cell_type": "code",
      "metadata": {
        "id": "7ja40qkUY1Va",
        "colab_type": "code",
        "colab": {}
      },
      "source": [
        "neg = np.where(scores < 3.0)[0]\n",
        "pos = np.where(scores > 3.0)[0]\n",
        "not_neu = np.where(scores != 3.0)[0]\n",
        "scores[neg] = 0\n",
        "scores[pos] = 1\n",
        "scores = scores[not_neu]\n",
        "new_docs = list()\n",
        "for i in not_neu:\n",
        "    new_docs.append(reviews[i])\n",
        "reviews = new_docs\n",
        "del neg, pos, not_neu, new_docs"
      ],
      "execution_count": 6,
      "outputs": []
    },
    {
      "cell_type": "markdown",
      "metadata": {
        "id": "BtEzGxUherYt",
        "colab_type": "text"
      },
      "source": [
        "## NLP"
      ]
    },
    {
      "cell_type": "code",
      "metadata": {
        "id": "OuaD75xqcYgP",
        "colab_type": "code",
        "colab": {
          "base_uri": "https://localhost:8080/",
          "height": 49
        },
        "outputId": "dcdb9a17-e49c-4384-bc8f-0042eb1a1c5a"
      },
      "source": [
        "print('Tokenizing:')\n",
        "tokenized_docs = list()\n",
        "for review in tqdm(reviews):\n",
        "    tokenized_docs.append(nltk.tokenize.word_tokenize(review))\n",
        "reviews = tokenized_docs\n",
        "del tokenized_docs"
      ],
      "execution_count": 7,
      "outputs": [
        {
          "output_type": "stream",
          "text": [
            "  0%|          | 57/248252 [00:00<07:17, 567.71it/s]"
          ],
          "name": "stderr"
        },
        {
          "output_type": "stream",
          "text": [
            "Tokenizing:\n"
          ],
          "name": "stdout"
        },
        {
          "output_type": "stream",
          "text": [
            "100%|██████████| 248252/248252 [02:18<00:00, 1786.66it/s]\n"
          ],
          "name": "stderr"
        }
      ]
    },
    {
      "cell_type": "code",
      "metadata": {
        "id": "oUIj1B6pe3_I",
        "colab_type": "code",
        "colab": {
          "base_uri": "https://localhost:8080/",
          "height": 49
        },
        "outputId": "19a9b9e6-c18f-46d0-8f0a-6c1604e57e49"
      },
      "source": [
        "print('Removing stop words:')\n",
        "stop_words = set(nltk.corpus.stopwords.words('english'))    \n",
        "modified_docs = list()\n",
        "for doc in tqdm(reviews):\n",
        "    modified_docs.append(list())\n",
        "    for token in doc:\n",
        "        if token not in stop_words:\n",
        "            modified_docs[-1].append(token)\n",
        "reviews = modified_docs\n",
        "del modified_docs"
      ],
      "execution_count": 8,
      "outputs": [
        {
          "output_type": "stream",
          "text": [
            "  3%|▎         | 6431/248252 [00:00<00:03, 64303.16it/s]"
          ],
          "name": "stderr"
        },
        {
          "output_type": "stream",
          "text": [
            "Removing stop words:\n"
          ],
          "name": "stdout"
        },
        {
          "output_type": "stream",
          "text": [
            "100%|██████████| 248252/248252 [00:05<00:00, 48655.35it/s]\n"
          ],
          "name": "stderr"
        }
      ]
    },
    {
      "cell_type": "code",
      "metadata": {
        "id": "n7nSJTpyfNBx",
        "colab_type": "code",
        "colab": {
          "base_uri": "https://localhost:8080/",
          "height": 49
        },
        "outputId": "0db751f9-14ae-4ac6-9cad-8b043f43c97e"
      },
      "source": [
        "print('Lemmatizing:')\n",
        "def get_wordnet_pos(word):\n",
        "    \"\"\"Map POS tag to first character lemmatize() accepts\n",
        "\n",
        "    Parameters\n",
        "    ----------\n",
        "    word : str\n",
        "        Word to tag.\n",
        "\n",
        "    Returns\n",
        "    -------\n",
        "    tag : str\n",
        "        The word neg tag.\n",
        "\n",
        "    \"\"\"\n",
        "    tag = nltk.pos_tag([word])[0][1][0].upper()\n",
        "    tag_dict = {\"J\": nltk.corpus.wordnet.ADJ,\n",
        "                \"N\": nltk.corpus.wordnet.NOUN,\n",
        "                \"V\": nltk.corpus.wordnet.VERB,\n",
        "                \"R\": nltk.corpus.wordnet.ADV}\n",
        "\n",
        "    return tag_dict.get(tag, nltk.wordnet.NOUN)\n",
        "wnl = nltk.stem.WordNetLemmatizer()\n",
        "lemmatized_docs = list()\n",
        "for doc in tqdm(reviews):\n",
        "    lemmatized_docs.append(list())\n",
        "    for token in doc:\n",
        "        pos = get_wordnet_pos(token)\n",
        "        lemmatized_docs[-1].append(wnl.lemmatize(token, pos))\n",
        "reviews = lemmatized_docs\n",
        "del lemmatized_docs"
      ],
      "execution_count": 9,
      "outputs": [
        {
          "output_type": "stream",
          "text": [
            "\r  0%|          | 0/248252 [00:00<?, ?it/s]"
          ],
          "name": "stderr"
        },
        {
          "output_type": "stream",
          "text": [
            "Lemmatizing:\n"
          ],
          "name": "stdout"
        },
        {
          "output_type": "stream",
          "text": [
            "100%|██████████| 248252/248252 [21:12<00:00, 195.01it/s]\n"
          ],
          "name": "stderr"
        }
      ]
    },
    {
      "cell_type": "code",
      "metadata": {
        "id": "zYrv_15ffY-3",
        "colab_type": "code",
        "colab": {
          "base_uri": "https://localhost:8080/",
          "height": 49
        },
        "outputId": "ba9e555b-5051-412a-94bf-f69424dbaf29"
      },
      "source": [
        "print('Removing punctuation:')\n",
        "modified_docs = list()\n",
        "for doc in tqdm(reviews):\n",
        "    modified_docs.append(list())\n",
        "    for token in doc:\n",
        "        if token not in string.punctuation:\n",
        "            modified_docs[-1].append(token)\n",
        "    modified_docs[-1] = ' '.join(modified_docs[-1])\n",
        "reviews = modified_docs\n",
        "del modified_docs"
      ],
      "execution_count": 10,
      "outputs": [
        {
          "output_type": "stream",
          "text": [
            "  4%|▎         | 8814/248252 [00:00<00:02, 88133.15it/s]"
          ],
          "name": "stderr"
        },
        {
          "output_type": "stream",
          "text": [
            "Removing punctuation:\n"
          ],
          "name": "stdout"
        },
        {
          "output_type": "stream",
          "text": [
            "100%|██████████| 248252/248252 [00:02<00:00, 90441.42it/s]\n"
          ],
          "name": "stderr"
        }
      ]
    },
    {
      "cell_type": "code",
      "metadata": {
        "id": "hjU4llEXfjTs",
        "colab_type": "code",
        "colab": {
          "base_uri": "https://localhost:8080/",
          "height": 32
        },
        "outputId": "5a6f4e42-bec0-4f70-f6c7-6a7559882c18"
      },
      "source": [
        "print('Building the Tf-idf representation...', end=' .')\n",
        "vectorizer = sklearn.feature_extraction.text.TfidfVectorizer(lowercase=False)\n",
        "tfidf = vectorizer.fit_transform(reviews)\n",
        "print('Done')"
      ],
      "execution_count": 11,
      "outputs": [
        {
          "output_type": "stream",
          "text": [
            "Building the Tf-idf representation... .Done\n"
          ],
          "name": "stdout"
        }
      ]
    },
    {
      "cell_type": "code",
      "metadata": {
        "id": "L8IuBIRdfoX1",
        "colab_type": "code",
        "colab": {
          "base_uri": "https://localhost:8080/",
          "height": 32
        },
        "outputId": "32323252-c6dc-45c4-9f9d-8efe8b552485"
      },
      "source": [
        "print('Decomposing the Tf-idf matrix... ', end=' .')\n",
        "n_features = 100\n",
        "decomposer = sklearn.decomposition.TruncatedSVD(n_features)\n",
        "dc_tfidf = decomposer.fit_transform(tfidf)\n",
        "del tfidf\n",
        "print('Done')"
      ],
      "execution_count": 12,
      "outputs": [
        {
          "output_type": "stream",
          "text": [
            "Decomposing the Tf-idf matrix...  .Done\n"
          ],
          "name": "stdout"
        }
      ]
    },
    {
      "cell_type": "markdown",
      "metadata": {
        "id": "vzLQD0NkgAe1",
        "colab_type": "text"
      },
      "source": [
        "## Model Training"
      ]
    },
    {
      "cell_type": "code",
      "metadata": {
        "id": "l6d3DP5Mf04p",
        "colab_type": "code",
        "colab": {}
      },
      "source": [
        "split_data = sklearn.model_selection.train_test_split(dc_tfidf, scores,\n",
        "                                            test_size=0.2, shuffle=True,\n",
        "                                            stratify=scores)\n",
        "del dc_tfidf\n",
        "train_x, test_x, train_y, test_y = split_data"
      ],
      "execution_count": 13,
      "outputs": []
    },
    {
      "cell_type": "code",
      "metadata": {
        "id": "WD4JXwYTk5nO",
        "colab_type": "code",
        "colab": {
          "base_uri": "https://localhost:8080/",
          "height": 82
        },
        "outputId": "147b3404-5f2b-4953-bad4-101ceb557b1f"
      },
      "source": [
        "# count class occurences\n",
        "classes, counts = np.unique(train_y, return_counts=True)\n",
        "ind = np.argsort(classes)\n",
        "classes = classes[ind]\n",
        "counts = counts[ind]\n",
        "# print class occurences\n",
        "df = pd.DataFrame({'Class': classes, 'Counts': counts,\n",
        "                    'Rel Counts (%)': 100*counts/counts.sum()})\n",
        "df = df.T\n",
        "print(df)\n",
        "# find sample weights\n",
        "sample_weights = 1/counts\n",
        "sample_weights = sample_weights / sample_weights.sum()\n",
        "sample_weights = sample_weights[np.where(\n",
        "    train_y.reshape(train_y.size, 1) == classes[np.newaxis, :])[1]]"
      ],
      "execution_count": 14,
      "outputs": [
        {
          "output_type": "stream",
          "text": [
            "                           0              1\n",
            "Class               0.000000       1.000000\n",
            "Counts          21324.000000  177277.000000\n",
            "Rel Counts (%)     10.737106      89.262894\n"
          ],
          "name": "stdout"
        }
      ]
    },
    {
      "cell_type": "code",
      "metadata": {
        "id": "wiAr2EX3gpLF",
        "colab_type": "code",
        "colab": {}
      },
      "source": [
        "def train_and_evaluate(classifier, split_data, sample_weights, name,\n",
        "                       results_path):\n",
        "    \"\"\"Trains and evaluates a sklearn classifier. The confusion matrix is\n",
        "    saved to file and show both in textual and graphical format.\n",
        "\n",
        "    Parameters\n",
        "    ----------\n",
        "    classifier : sklearn classifier\n",
        "        An instance of a sklearn classifier sutiable for the task.\n",
        "    split_data : tuple\n",
        "        Tuple consisting of train_x, test_x, train_y, test_y.\n",
        "    sample_weights : np 1D array\n",
        "        Array of the same size of train_x and train_y. Used to get a balanced\n",
        "        fit out of an unbalanced dataset. Doesn't make sense on some algorithms.\n",
        "    name : str\n",
        "        Model name. Used in the reports.\n",
        "    results_path : str\n",
        "        Path showing where to save the results.\n",
        "\n",
        "    Returns\n",
        "    -------\n",
        "    classifier : sklearn classifier\n",
        "        The trained sklearn classifier.\n",
        "    cm : matrix\n",
        "        The confusion matrix of the model. The axes follow the sklearn\n",
        "        convention (ture labels on the first, predicted on the second).\n",
        "    \"\"\"\n",
        "    print('Training the classifier... ', end=' .')\n",
        "    train_x, test_x, train_y, test_y = split_data\n",
        "    if sample_weights is not None:\n",
        "        classifier.fit(train_x, train_y, sample_weights)\n",
        "    else:\n",
        "        classifier.fit(train_x, train_y)\n",
        "    print('Done')\n",
        "    estimates = classifier.predict(test_x)\n",
        "    print('Building the confusion matrix...', end=' .')\n",
        "    cm = sklearn.metrics.confusion_matrix(test_y, estimates, labels=[0.0, 1.0])\n",
        "    cr = sklearn.metrics.classification_report(test_y, estimates)\n",
        "    with open(results_path + name + ' Classification Report.txt', 'w') as f:\n",
        "        f.write(cr)\n",
        "    print('Done')\n",
        "    fig, ax = plt.subplots()\n",
        "    sklearn.metrics.plot_confusion_matrix(classifier, test_x, test_y,\n",
        "                                          labels=[0.0, 1.0], ax=ax)\n",
        "    ax.set_title(name + ' Confusion Matrix')\n",
        "    fig.savefig(results_path + '{} Confusion Matrix.pdf'.format(name))\n",
        "    print(cr)\n",
        "    fig.show()\n",
        "    return classifier, cm"
      ],
      "execution_count": 15,
      "outputs": []
    },
    {
      "cell_type": "code",
      "metadata": {
        "id": "YJ8TyBTel2MF",
        "colab_type": "code",
        "colab": {
          "base_uri": "https://localhost:8080/",
          "height": 508
        },
        "outputId": "0b40292a-4f2d-4fc9-c109-80e945282b08"
      },
      "source": [
        "# Naive Bayes\n",
        "train_and_evaluate(sklearn.naive_bayes.GaussianNB(), split_data, sample_weights,\n",
        "                   'Gassian Naïve Bayes', savepath)"
      ],
      "execution_count": null,
      "outputs": [
        {
          "output_type": "stream",
          "text": [
            "Training the classifier...  .Done\n",
            "Building the confusion matrix... .Done\n",
            "              precision    recall  f1-score   support\n",
            "\n",
            "         0.0       0.18      0.74      0.28      5331\n",
            "         1.0       0.95      0.58      0.72     44320\n",
            "\n",
            "    accuracy                           0.60     49651\n",
            "   macro avg       0.56      0.66      0.50     49651\n",
            "weighted avg       0.87      0.60      0.67     49651\n",
            "\n"
          ],
          "name": "stdout"
        },
        {
          "output_type": "execute_result",
          "data": {
            "text/plain": [
              "(GaussianNB(priors=None, var_smoothing=1e-09), array([[ 3942,  1389],\n",
              "        [18509, 25811]]))"
            ]
          },
          "metadata": {
            "tags": []
          },
          "execution_count": 15
        },
        {
          "output_type": "display_data",
          "data": {
            "image/png": "[encoded data removed]",
            "text/plain": [
              "<Figure size 432x288 with 2 Axes>"
            ]
          },
          "metadata": {
            "tags": [],
            "needs_background": "light"
          }
        }
      ]
    },
    {
      "cell_type": "code",
      "metadata": {
        "id": "ZiVprTEBxabN",
        "colab_type": "code",
        "colab": {
          "base_uri": "https://localhost:8080/",
          "height": 623
        },
        "outputId": "dfd28305-056a-46cf-d378-488127febc34"
      },
      "source": [
        "# Random Forest\n",
        "train_and_evaluate(sklearn.ensemble.RandomForestClassifier(), split_data,\n",
        "                   sample_weights, 'Random Forest', savepath)"
      ],
      "execution_count": null,
      "outputs": [
        {
          "output_type": "stream",
          "text": [
            "Training the classifier...  .Done\n",
            "Building the confusion matrix... .Done\n",
            "              precision    recall  f1-score   support\n",
            "\n",
            "         0.0       0.75      0.10      0.18      5331\n",
            "         1.0       0.90      1.00      0.95     44320\n",
            "\n",
            "    accuracy                           0.90     49651\n",
            "   macro avg       0.82      0.55      0.56     49651\n",
            "weighted avg       0.89      0.90      0.86     49651\n",
            "\n"
          ],
          "name": "stdout"
        },
        {
          "output_type": "execute_result",
          "data": {
            "text/plain": [
              "(RandomForestClassifier(bootstrap=True, ccp_alpha=0.0, class_weight=None,\n",
              "                        criterion='gini', max_depth=None, max_features='auto',\n",
              "                        max_leaf_nodes=None, max_samples=None,\n",
              "                        min_impurity_decrease=0.0, min_impurity_split=None,\n",
              "                        min_samples_leaf=1, min_samples_split=2,\n",
              "                        min_weight_fraction_leaf=0.0, n_estimators=100,\n",
              "                        n_jobs=None, oob_score=False, random_state=None,\n",
              "                        verbose=0, warm_start=False), array([[  539,  4792],\n",
              "        [  182, 44138]]))"
            ]
          },
          "metadata": {
            "tags": []
          },
          "execution_count": 16
        },
        {
          "output_type": "display_data",
          "data": {
            "image/png": "[encoded data removed]",
            "text/plain": [
              "<Figure size 432x288 with 2 Axes>"
            ]
          },
          "metadata": {
            "tags": [],
            "needs_background": "light"
          }
        }
      ]
    },
    {
      "cell_type": "code",
      "metadata": {
        "id": "i-pi1jcSGsp5",
        "colab_type": "code",
        "colab": {
          "base_uri": "https://localhost:8080/",
          "height": 557
        },
        "outputId": "2a03a620-abe1-441a-9f4a-2a44b6a984e8"
      },
      "source": [
        "# Linear SVM\n",
        "train_and_evaluate(sklearn.svm.LinearSVC(), split_data,\n",
        "                   sample_weights, 'Linear SVM', savepath)"
      ],
      "execution_count": null,
      "outputs": [
        {
          "output_type": "stream",
          "text": [
            "Training the classifier...  .Done\n",
            "Building the confusion matrix... .Done\n",
            "              precision    recall  f1-score   support\n",
            "\n",
            "         0.0       0.32      0.84      0.46      5331\n",
            "         1.0       0.98      0.79      0.87     44320\n",
            "\n",
            "    accuracy                           0.79     49651\n",
            "   macro avg       0.65      0.81      0.67     49651\n",
            "weighted avg       0.91      0.79      0.83     49651\n",
            "\n"
          ],
          "name": "stdout"
        },
        {
          "output_type": "execute_result",
          "data": {
            "text/plain": [
              "(LinearSVC(C=1.0, class_weight=None, dual=True, fit_intercept=True,\n",
              "           intercept_scaling=1, loss='squared_hinge', max_iter=1000,\n",
              "           multi_class='ovr', penalty='l2', random_state=None, tol=0.0001,\n",
              "           verbose=0), array([[ 4452,   879],\n",
              "        [ 9376, 34944]]))"
            ]
          },
          "metadata": {
            "tags": []
          },
          "execution_count": 17
        },
        {
          "output_type": "display_data",
          "data": {
            "image/png": "[encoded data removed]",
            "text/plain": [
              "<Figure size 432x288 with 2 Axes>"
            ]
          },
          "metadata": {
            "tags": [],
            "needs_background": "light"
          }
        }
      ]
    },
    {
      "cell_type": "markdown",
      "metadata": {
        "id": "VXVcMWFOx-I5",
        "colab_type": "text"
      },
      "source": [
        "Neural Network"
      ]
    },
    {
      "cell_type": "code",
      "metadata": {
        "id": "4CJhzAunxl41",
        "colab_type": "code",
        "colab": {}
      },
      "source": [
        "class_weights = 1/counts\n",
        "class_weights = class_weights / class_weights.sum()\n",
        "class_weights = dict(zip(classes, class_weights))\n",
        "train_y = keras.utils.to_categorical(train_y)\n",
        "test_y = keras.utils.to_categorical(test_y)\n",
        "\n",
        "def plot_confusion_matrix(cm, classes,\n",
        "                        normalize=False,\n",
        "                        title='Confusion matrix',\n",
        "                        cmap=plt.cm.Blues):\n",
        "    \"\"\"\n",
        "    This function prints and plots the confusion matrix.\n",
        "    Normalization can be applied by setting `normalize=True`.\n",
        "    \"\"\"\n",
        "    plt.imshow(cm, interpolation='nearest', cmap=cmap)\n",
        "    plt.title(title)\n",
        "    plt.colorbar()\n",
        "    tick_marks = np.arange(len(classes))\n",
        "    plt.xticks(tick_marks, classes, rotation=45)\n",
        "    plt.yticks(tick_marks, classes)\n",
        "\n",
        "    print(cm)\n",
        "\n",
        "    thresh = cm.max() / 2.\n",
        "    for i, j in itertools.product(range(cm.shape[0]), range(cm.shape[1])):\n",
        "        plt.text(j, i, cm[i, j],\n",
        "            horizontalalignment=\"center\",\n",
        "            color=\"white\" if cm[i, j] > thresh else \"black\")\n",
        "\n",
        "    plt.tight_layout()\n",
        "    plt.ylabel('True label')\n",
        "    plt.xlabel('Predicted label')"
      ],
      "execution_count": 16,
      "outputs": []
    },
    {
      "cell_type": "code",
      "metadata": {
        "id": "dHpZLhPux5tU",
        "colab_type": "code",
        "colab": {
          "base_uri": "https://localhost:8080/",
          "height": 197
        },
        "outputId": "f2c07324-662a-4855-a3ab-498310026068"
      },
      "source": [
        "classifier = keras.models.Sequential()\n",
        "classifier.add(keras.layers.Dense(512, activation='relu',\n",
        "                                  input_shape=(n_features,)))\n",
        "classifier.add(keras.layers.Dense(128, activation='relu'))\n",
        "classifier.add(keras.layers.Dense(2, activation='softmax'))\n",
        "classifier.compile(loss='binary_crossentropy')\n",
        "classifier.fit(train_x, train_y, class_weight=class_weights, batch_size=32,\n",
        "               epochs=5)"
      ],
      "execution_count": 17,
      "outputs": [
        {
          "output_type": "stream",
          "text": [
            "Epoch 1/5\n",
            "6207/6207 [==============================] - 16s 3ms/step - loss: 0.0802\n",
            "Epoch 2/5\n",
            "6207/6207 [==============================] - 16s 3ms/step - loss: 0.0772\n",
            "Epoch 3/5\n",
            "6207/6207 [==============================] - 16s 3ms/step - loss: 0.0772\n",
            "Epoch 4/5\n",
            "6207/6207 [==============================] - 15s 2ms/step - loss: 0.0753\n",
            "Epoch 5/5\n",
            "6207/6207 [==============================] - 16s 3ms/step - loss: 0.0743\n"
          ],
          "name": "stdout"
        },
        {
          "output_type": "execute_result",
          "data": {
            "text/plain": [
              "<tensorflow.python.keras.callbacks.History at 0x7fd9a9717898>"
            ]
          },
          "metadata": {
            "tags": []
          },
          "execution_count": 17
        }
      ]
    },
    {
      "cell_type": "code",
      "metadata": {
        "id": "6HXcuxRayGgd",
        "colab_type": "code",
        "colab": {
          "base_uri": "https://localhost:8080/",
          "height": 358
        },
        "outputId": "fefe14e3-439f-44c8-f1aa-1ad0da2df42c"
      },
      "source": [
        "estimates = classifier.predict(test_x)\n",
        "estimates = np.argmax(estimates, axis=1)\n",
        "test_y = np.argmax(test_y, axis=1)\n",
        "print('Building the confusion matrix...', end=' .')\n",
        "cm = sklearn.metrics.confusion_matrix(test_y, estimates, labels=[0.0, 1.0])\n",
        "cr = sklearn.metrics.classification_report(test_y, estimates)\n",
        "with open(savepath + 'ANN Classification Report.txt', 'w') as f:\n",
        "    f.write(cr)\n",
        "print('Done')\n",
        "plot_confusion_matrix(cm, [0.0, 1.0])\n",
        "plt.savefig(savepath + 'ANN Confusion Matrix.pdf')"
      ],
      "execution_count": 20,
      "outputs": [
        {
          "output_type": "stream",
          "text": [
            "Building the confusion matrix... .Done\n",
            "[[ 4369   962]\n",
            " [ 7461 36859]]\n"
          ],
          "name": "stdout"
        },
        {
          "output_type": "display_data",
          "data": {
            "image/png": "[encoded data removed]",
            "text/plain": [
              "<Figure size 432x288 with 2 Axes>"
            ]
          },
          "metadata": {
            "tags": [],
            "needs_background": "light"
          }
        }
      ]
    }
  ]
}